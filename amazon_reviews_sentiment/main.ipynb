{
 "cells": [
  {
   "cell_type": "markdown",
   "metadata": {},
   "source": [
    "## **Análise de Sentimento em Reviews da Amazon usando NLP**"
   ]
  },
  {
   "cell_type": "markdown",
   "metadata": {},
   "source": [
    "#### **Objetivo:**\n",
    "\n",
    "O objetivo deste projeto é realizar a análise de sentimentos em reviews fornecidos pelos usuários da Amazon utilizando a técnica de Processamento de Linguagem Natural (NLP). A meta principal é desenvolver um modelo capaz de inferir se um review é positivo ou negativo. Para isso, serão aplicadas técnicas de pré-processamento de texto, dividindo os dados em conjuntos de treino e teste, e treinando um modelo de Regressão Logística."
   ]
  },
  {
   "cell_type": "markdown",
   "metadata": {},
   "source": [
    "**Instalação do módulo e importação das bibliotecas**"
   ]
  },
  {
   "cell_type": "code",
   "execution_count": 1,
   "metadata": {},
   "outputs": [
    {
     "name": "stdout",
     "output_type": "stream",
     "text": [
      "Requirement already satisfied: nltk in c:\\users\\leoar\\appdata\\local\\programs\\python\\python39\\lib\\site-packages (3.7)\n",
      "Requirement already satisfied: joblib in c:\\users\\leoar\\appdata\\local\\programs\\python\\python39\\lib\\site-packages (from nltk) (1.1.0)\n",
      "Requirement already satisfied: click in c:\\users\\leoar\\appdata\\local\\programs\\python\\python39\\lib\\site-packages (from nltk) (8.0.4)\n",
      "Requirement already satisfied: regex>=2021.8.3 in c:\\users\\leoar\\appdata\\local\\programs\\python\\python39\\lib\\site-packages (from nltk) (2022.3.15)\n",
      "Requirement already satisfied: tqdm in c:\\users\\leoar\\appdata\\local\\programs\\python\\python39\\lib\\site-packages (from nltk) (4.63.1)\n",
      "Requirement already satisfied: colorama in c:\\users\\leoar\\appdata\\local\\programs\\python\\python39\\lib\\site-packages (from click->nltk) (0.4.4)\n",
      "Note: you may need to restart the kernel to use updated packages.\n"
     ]
    },
    {
     "name": "stderr",
     "output_type": "stream",
     "text": [
      "\n",
      "[notice] A new release of pip available: 22.2.2 -> 24.0\n",
      "[notice] To update, run: python.exe -m pip install --upgrade pip\n"
     ]
    }
   ],
   "source": [
    "%pip install nltk"
   ]
  },
  {
   "cell_type": "code",
   "execution_count": 2,
   "metadata": {},
   "outputs": [],
   "source": [
    "import pandas as pd \n",
    "import string \n",
    "from nltk.corpus import stopwords ## nltk stopwords\n",
    "from sklearn.model_selection import train_test_split ## train_test_split\n",
    "from sklearn.feature_extraction.text import CountVectorizer, TfidfTransformer ## CountVectorizer, TfidfTransformer\n",
    "from sklearn.naive_bayes import MultinomialNB ## MultinomialNB\n",
    "from sklearn.metrics import classification_report, roc_auc_score, roc_curve ## classification_report, roc_auc_score, roc_curve\n",
    "from imblearn.over_sampling import SMOTE ## Smote\n",
    "from imblearn.pipeline import Pipeline ## imblearn pipeline\n",
    "import matplotlib.pyplot as plt ## matplotlib\n",
    "from nltk.tokenize import word_tokenize\n",
    "from nltk.corpus import stopwords\n",
    "import nltk\n",
    "from sklearn.linear_model import LogisticRegression\n",
    "import seaborn as sns\n",
    "from matplotlib import pyplot as plt"
   ]
  },
  {
   "cell_type": "markdown",
   "metadata": {},
   "source": [
    "**Carregamento do dataset e análise exploratória**"
   ]
  },
  {
   "cell_type": "code",
   "execution_count": 4,
   "metadata": {},
   "outputs": [
    {
     "data": {
      "text/html": [
       "<div>\n",
       "<style scoped>\n",
       "    .dataframe tbody tr th:only-of-type {\n",
       "        vertical-align: middle;\n",
       "    }\n",
       "\n",
       "    .dataframe tbody tr th {\n",
       "        vertical-align: top;\n",
       "    }\n",
       "\n",
       "    .dataframe thead th {\n",
       "        text-align: right;\n",
       "    }\n",
       "</style>\n",
       "<table border=\"1\" class=\"dataframe\">\n",
       "  <thead>\n",
       "    <tr style=\"text-align: right;\">\n",
       "      <th></th>\n",
       "      <th>review</th>\n",
       "      <th>sentiment</th>\n",
       "    </tr>\n",
       "  </thead>\n",
       "  <tbody>\n",
       "    <tr>\n",
       "      <th>0</th>\n",
       "      <td>Expensive Junk: This product consists of a pie...</td>\n",
       "      <td>bad</td>\n",
       "    </tr>\n",
       "    <tr>\n",
       "      <th>1</th>\n",
       "      <td>Toast too dark: Even on the lowest setting, th...</td>\n",
       "      <td>bad</td>\n",
       "    </tr>\n",
       "    <tr>\n",
       "      <th>2</th>\n",
       "      <td>Excellent imagery...dumbed down story: I enjoy...</td>\n",
       "      <td>good</td>\n",
       "    </tr>\n",
       "    <tr>\n",
       "      <th>3</th>\n",
       "      <td>Are we pretending everyone is married?: The au...</td>\n",
       "      <td>bad</td>\n",
       "    </tr>\n",
       "    <tr>\n",
       "      <th>4</th>\n",
       "      <td>Not worth your time: Might as well just use a ...</td>\n",
       "      <td>bad</td>\n",
       "    </tr>\n",
       "  </tbody>\n",
       "</table>\n",
       "</div>"
      ],
      "text/plain": [
       "                                              review sentiment\n",
       "0  Expensive Junk: This product consists of a pie...       bad\n",
       "1  Toast too dark: Even on the lowest setting, th...       bad\n",
       "2  Excellent imagery...dumbed down story: I enjoy...      good\n",
       "3  Are we pretending everyone is married?: The au...       bad\n",
       "4  Not worth your time: Might as well just use a ...       bad"
      ]
     },
     "execution_count": 4,
     "metadata": {},
     "output_type": "execute_result"
    }
   ],
   "source": [
    "df = pd.read_csv(\"amazon_sentiment_analysis.csv\") # carregando o dataset\n",
    "df.head()"
   ]
  },
  {
   "cell_type": "code",
   "execution_count": 5,
   "metadata": {},
   "outputs": [
    {
     "data": {
      "text/html": [
       "<div>\n",
       "<style scoped>\n",
       "    .dataframe tbody tr th:only-of-type {\n",
       "        vertical-align: middle;\n",
       "    }\n",
       "\n",
       "    .dataframe tbody tr th {\n",
       "        vertical-align: top;\n",
       "    }\n",
       "\n",
       "    .dataframe thead th {\n",
       "        text-align: right;\n",
       "    }\n",
       "</style>\n",
       "<table border=\"1\" class=\"dataframe\">\n",
       "  <thead>\n",
       "    <tr style=\"text-align: right;\">\n",
       "      <th></th>\n",
       "      <th>review</th>\n",
       "      <th>sentiment</th>\n",
       "    </tr>\n",
       "  </thead>\n",
       "  <tbody>\n",
       "    <tr>\n",
       "      <th>0</th>\n",
       "      <td>Expensive Junk: This product consists of a pie...</td>\n",
       "      <td>bad</td>\n",
       "    </tr>\n",
       "    <tr>\n",
       "      <th>1</th>\n",
       "      <td>Toast too dark: Even on the lowest setting, th...</td>\n",
       "      <td>bad</td>\n",
       "    </tr>\n",
       "    <tr>\n",
       "      <th>2</th>\n",
       "      <td>Excellent imagery...dumbed down story: I enjoy...</td>\n",
       "      <td>good</td>\n",
       "    </tr>\n",
       "    <tr>\n",
       "      <th>3</th>\n",
       "      <td>Are we pretending everyone is married?: The au...</td>\n",
       "      <td>bad</td>\n",
       "    </tr>\n",
       "    <tr>\n",
       "      <th>4</th>\n",
       "      <td>Not worth your time: Might as well just use a ...</td>\n",
       "      <td>bad</td>\n",
       "    </tr>\n",
       "  </tbody>\n",
       "</table>\n",
       "</div>"
      ],
      "text/plain": [
       "                                              review sentiment\n",
       "0  Expensive Junk: This product consists of a pie...       bad\n",
       "1  Toast too dark: Even on the lowest setting, th...       bad\n",
       "2  Excellent imagery...dumbed down story: I enjoy...      good\n",
       "3  Are we pretending everyone is married?: The au...       bad\n",
       "4  Not worth your time: Might as well just use a ...       bad"
      ]
     },
     "execution_count": 5,
     "metadata": {},
     "output_type": "execute_result"
    }
   ],
   "source": [
    "df = pd.DataFrame(data=df) # transformando o dataset em DataFrame\n",
    "df.head()"
   ]
  },
  {
   "cell_type": "code",
   "execution_count": 7,
   "metadata": {},
   "outputs": [
    {
     "name": "stdout",
     "output_type": "stream",
     "text": [
      "<class 'pandas.core.frame.DataFrame'>\n",
      "RangeIndex: 559500 entries, 0 to 559499\n",
      "Data columns (total 2 columns):\n",
      " #   Column     Non-Null Count   Dtype \n",
      "---  ------     --------------   ----- \n",
      " 0   review     559500 non-null  object\n",
      " 1   sentiment  559500 non-null  object\n",
      "dtypes: object(2)\n",
      "memory usage: 8.5+ MB\n"
     ]
    }
   ],
   "source": [
    "# Não há valores faltantes no DataFrame. Ambas as colunas, \"review\" e \"sentiment\", têm 559500 entradas não nulas, indicando que não há valores ausentes em nenhuma das colunas.\n",
    "\n",
    "df.info()"
   ]
  },
  {
   "cell_type": "code",
   "execution_count": 8,
   "metadata": {},
   "outputs": [
    {
     "data": {
      "text/plain": [
       "<bound method Series.unique of good    279786\n",
       "bad     279714\n",
       "Name: sentiment, dtype: int64>"
      ]
     },
     "execution_count": 8,
     "metadata": {},
     "output_type": "execute_result"
    }
   ],
   "source": [
    "df['sentiment'].value_counts().unique # Existe mais avaliações boas do que ruins, mas a diferença é pouca"
   ]
  },
  {
   "cell_type": "markdown",
   "metadata": {},
   "source": [
    "**Transformação dos Valores Target** \n",
    "\n",
    " Ao lidar com problemas de classificação, é comum que as variáveis-alvo estejam representadas de maneira categórica, muitas vezes utilizando rótulos textuais. No entanto, a maioria dos modelos de machine learning exige que esses rótulos sejam numéricos para funcionar corretamente. Portanto, a etapa de transformação dos valores-alvo é crucial para garantir a compatibilidade com o algoritmo escolhido.\n"
   ]
  },
  {
   "cell_type": "code",
   "execution_count": 9,
   "metadata": {},
   "outputs": [],
   "source": [
    "# Criando função para transformar os valores target em numéricos (bad = 1 e good = 0)\n",
    "def sentimento (row):\n",
    "  if row [\"sentiment\"] == 'good':\n",
    "    return 0\n",
    "  else:\n",
    "    return 1\n",
    "df['sentiment2'] =df.apply(sentimento, axis=1)"
   ]
  },
  {
   "cell_type": "code",
   "execution_count": 11,
   "metadata": {},
   "outputs": [
    {
     "data": {
      "text/html": [
       "<div>\n",
       "<style scoped>\n",
       "    .dataframe tbody tr th:only-of-type {\n",
       "        vertical-align: middle;\n",
       "    }\n",
       "\n",
       "    .dataframe tbody tr th {\n",
       "        vertical-align: top;\n",
       "    }\n",
       "\n",
       "    .dataframe thead th {\n",
       "        text-align: right;\n",
       "    }\n",
       "</style>\n",
       "<table border=\"1\" class=\"dataframe\">\n",
       "  <thead>\n",
       "    <tr style=\"text-align: right;\">\n",
       "      <th></th>\n",
       "      <th>review</th>\n",
       "      <th>sentiment</th>\n",
       "      <th>sentiment2</th>\n",
       "    </tr>\n",
       "  </thead>\n",
       "  <tbody>\n",
       "    <tr>\n",
       "      <th>0</th>\n",
       "      <td>Expensive Junk: This product consists of a pie...</td>\n",
       "      <td>bad</td>\n",
       "      <td>1</td>\n",
       "    </tr>\n",
       "    <tr>\n",
       "      <th>1</th>\n",
       "      <td>Toast too dark: Even on the lowest setting, th...</td>\n",
       "      <td>bad</td>\n",
       "      <td>1</td>\n",
       "    </tr>\n",
       "    <tr>\n",
       "      <th>2</th>\n",
       "      <td>Excellent imagery...dumbed down story: I enjoy...</td>\n",
       "      <td>good</td>\n",
       "      <td>0</td>\n",
       "    </tr>\n",
       "    <tr>\n",
       "      <th>3</th>\n",
       "      <td>Are we pretending everyone is married?: The au...</td>\n",
       "      <td>bad</td>\n",
       "      <td>1</td>\n",
       "    </tr>\n",
       "    <tr>\n",
       "      <th>4</th>\n",
       "      <td>Not worth your time: Might as well just use a ...</td>\n",
       "      <td>bad</td>\n",
       "      <td>1</td>\n",
       "    </tr>\n",
       "    <tr>\n",
       "      <th>...</th>\n",
       "      <td>...</td>\n",
       "      <td>...</td>\n",
       "      <td>...</td>\n",
       "    </tr>\n",
       "    <tr>\n",
       "      <th>559495</th>\n",
       "      <td>PS: Correction (sorry, wasn't able to edit my ...</td>\n",
       "      <td>good</td>\n",
       "      <td>0</td>\n",
       "    </tr>\n",
       "    <tr>\n",
       "      <th>559496</th>\n",
       "      <td>awesome cloth blocks: These blocks are perfect...</td>\n",
       "      <td>good</td>\n",
       "      <td>0</td>\n",
       "    </tr>\n",
       "    <tr>\n",
       "      <th>559497</th>\n",
       "      <td>EXCELLENT PRINCE: This recording is pure Princ...</td>\n",
       "      <td>good</td>\n",
       "      <td>0</td>\n",
       "    </tr>\n",
       "    <tr>\n",
       "      <th>559498</th>\n",
       "      <td>LOVE IT, LOVE IT, LOVE IT!: Here's the scene: ...</td>\n",
       "      <td>good</td>\n",
       "      <td>0</td>\n",
       "    </tr>\n",
       "    <tr>\n",
       "      <th>559499</th>\n",
       "      <td>Flat Live Recordings: I had high expectations ...</td>\n",
       "      <td>bad</td>\n",
       "      <td>1</td>\n",
       "    </tr>\n",
       "  </tbody>\n",
       "</table>\n",
       "<p>559500 rows × 3 columns</p>\n",
       "</div>"
      ],
      "text/plain": [
       "                                                   review sentiment  \\\n",
       "0       Expensive Junk: This product consists of a pie...       bad   \n",
       "1       Toast too dark: Even on the lowest setting, th...       bad   \n",
       "2       Excellent imagery...dumbed down story: I enjoy...      good   \n",
       "3       Are we pretending everyone is married?: The au...       bad   \n",
       "4       Not worth your time: Might as well just use a ...       bad   \n",
       "...                                                   ...       ...   \n",
       "559495  PS: Correction (sorry, wasn't able to edit my ...      good   \n",
       "559496  awesome cloth blocks: These blocks are perfect...      good   \n",
       "559497  EXCELLENT PRINCE: This recording is pure Princ...      good   \n",
       "559498  LOVE IT, LOVE IT, LOVE IT!: Here's the scene: ...      good   \n",
       "559499  Flat Live Recordings: I had high expectations ...       bad   \n",
       "\n",
       "        sentiment2  \n",
       "0                1  \n",
       "1                1  \n",
       "2                0  \n",
       "3                1  \n",
       "4                1  \n",
       "...            ...  \n",
       "559495           0  \n",
       "559496           0  \n",
       "559497           0  \n",
       "559498           0  \n",
       "559499           1  \n",
       "\n",
       "[559500 rows x 3 columns]"
      ]
     },
     "execution_count": 11,
     "metadata": {},
     "output_type": "execute_result"
    }
   ],
   "source": [
    "df"
   ]
  },
  {
   "cell_type": "markdown",
   "metadata": {},
   "source": [
    "**Distribuição das Variáveis Resposta**\n"
   ]
  },
  {
   "cell_type": "code",
   "execution_count": 13,
   "metadata": {},
   "outputs": [
    {
     "data": {
      "image/png": "[encoded data removed]",
      "text/plain": [
       "<Figure size 1080x720 with 1 Axes>"
      ]
     },
     "metadata": {
      "needs_background": "light"
     },
     "output_type": "display_data"
    }
   ],
   "source": [
    "# Criando gráfico para verificar a distribuição das variáveis resposta (good e bad)\n",
    "fig = plt.figure(figsize=(15, 10))\n",
    "ax = sns.countplot(x='sentiment', data=df)\n",
    "\n",
    "for p in ax.patches:\n",
    "    ax.annotate(f'{p.get_height()}', (p.get_x() + p.get_width() / 2., p.get_height()),\n",
    "                ha='center', va='center', fontsize=12, color='black', xytext=(0, 5),\n",
    "                textcoords='offset points')\n",
    "\n",
    "plt.show()\n"
   ]
  },
  {
   "cell_type": "markdown",
   "metadata": {},
   "source": [
    "**Pré-processamento do Texto**\n"
   ]
  },
  {
   "cell_type": "markdown",
   "metadata": {},
   "source": [
    "Na etapa de pré-processamento do texto, buscamos criar uma representação mais adequada para a análise de sentimentos. Utilizamos expressões regulares, como \\w e \\S, para identificar e manter apenas os caracteres relevantes em uma string. O \\w procura por caracteres de palavras, abrangendo letras de az, AZ, e dígitos de 0 a 9. Já o \\S identifica qualquer caractere que não seja um espaço em branco."
   ]
  },
  {
   "cell_type": "code",
   "execution_count": 14,
   "metadata": {},
   "outputs": [
    {
     "name": "stderr",
     "output_type": "stream",
     "text": [
      "C:\\Users\\leoar\\AppData\\Local\\Temp\\ipykernel_24696\\1959112686.py:1: FutureWarning: The default value of regex will change from True to False in a future version.\n",
      "  df['review'] = df['review'].str.replace('[^\\W\\S]','')\n"
     ]
    }
   ],
   "source": [
    "df['review'] = df['review'].str.replace('[^\\W\\S]','')"
   ]
  },
  {
   "cell_type": "markdown",
   "metadata": {},
   "source": [
    "Download das stopwords\n",
    "\n",
    "As stopwords são palavras comuns removidas durante o pré-processamento de texto, pois não oferecem contribuição significativa para a análise de sentimentos ou outras tarefas de processamento de linguagem natural. Essa ação ajuda a reduzir a dimensionalidade dos dados e destaca palavras mais relevantes para a tarefa em questão."
   ]
  },
  {
   "cell_type": "code",
   "execution_count": 16,
   "metadata": {},
   "outputs": [
    {
     "name": "stderr",
     "output_type": "stream",
     "text": [
      "[nltk_data] Downloading package stopwords to\n",
      "[nltk_data]     C:\\Users\\leoar\\AppData\\Roaming\\nltk_data...\n",
      "[nltk_data]   Package stopwords is already up-to-date!\n"
     ]
    },
    {
     "data": {
      "text/plain": [
       "True"
      ]
     },
     "execution_count": 16,
     "metadata": {},
     "output_type": "execute_result"
    }
   ],
   "source": [
    "nltk.download('stopwords')"
   ]
  },
  {
   "cell_type": "markdown",
   "metadata": {},
   "source": [
    "Método utilizado para: \n",
    "\n",
    "\n",
    "Remoção de Pontuação: Utiliza uma lista de compreensão para criar uma nova lista chamada nopunc, contendo apenas os caracteres que não são pontuações. Isso é feito verificando se cada caractere na string de texto não está na string de pontuações fornecida pela biblioteca string.\n",
    "\n",
    "Junção dos Caracteres: Usa o método join para unir os caracteres da lista nopunc e formar novamente uma string, eliminando assim a pontuação.\n",
    "\n",
    "Remoção de Stopwords: Cria uma lista contendo apenas as palavras que não são stopwords. Usa a lista de stopwords da língua inglesa fornecida pela biblioteca NLTK para realizar essa remoção.\n",
    "\n",
    "Retorno: Retorna a linha 1 resultante para verificação após a remoção de pontuações e stopwords."
   ]
  },
  {
   "cell_type": "code",
   "execution_count": 19,
   "metadata": {},
   "outputs": [
    {
     "data": {
      "text/plain": [
       "['Toast',\n",
       " 'dark',\n",
       " 'Even',\n",
       " 'lowest',\n",
       " 'setting',\n",
       " 'toast',\n",
       " 'dark',\n",
       " 'liking',\n",
       " 'Also',\n",
       " 'light',\n",
       " 'stays',\n",
       " 'lit',\n",
       " 'unplug',\n",
       " 'avoid',\n",
       " 'wasting',\n",
       " 'electricity',\n",
       " 'quality',\n",
       " 'expected',\n",
       " 'Cuisinart']"
      ]
     },
     "execution_count": 19,
     "metadata": {},
     "output_type": "execute_result"
    }
   ],
   "source": [
    "def text_process(mess):\n",
    "    \"\"\"\n",
    "    Takes in a string of text, then performs the following:\n",
    "    1. Remove all punctuation\n",
    "    2. Remove all stopwords\n",
    "    3. Returns a list of the cleaned text\n",
    "    \"\"\"\n",
    "    # Check characters to see if they are in punctuation\n",
    "    nopunc = [char for char in mess if char not in string.punctuation]\n",
    "\n",
    "    # Join the characters again to form the string.\n",
    "    nopunc = ''.join(nopunc)\n",
    "\n",
    "    # Now just remove any stopwords\n",
    "    return [word for word in nopunc.split() if word.lower() not in stopwords.words('english')]\n",
    "\n",
    "text_process(df['review'].iloc[1])\n"
   ]
  },
  {
   "cell_type": "code",
   "execution_count": 21,
   "metadata": {},
   "outputs": [
    {
     "data": {
      "text/html": [
       "<div>\n",
       "<style scoped>\n",
       "    .dataframe tbody tr th:only-of-type {\n",
       "        vertical-align: middle;\n",
       "    }\n",
       "\n",
       "    .dataframe tbody tr th {\n",
       "        vertical-align: top;\n",
       "    }\n",
       "\n",
       "    .dataframe thead th {\n",
       "        text-align: right;\n",
       "    }\n",
       "</style>\n",
       "<table border=\"1\" class=\"dataframe\">\n",
       "  <thead>\n",
       "    <tr style=\"text-align: right;\">\n",
       "      <th></th>\n",
       "      <th>review</th>\n",
       "      <th>sentiment</th>\n",
       "      <th>sentiment2</th>\n",
       "    </tr>\n",
       "  </thead>\n",
       "  <tbody>\n",
       "    <tr>\n",
       "      <th>0</th>\n",
       "      <td>Expensive Junk: This product consists of a pie...</td>\n",
       "      <td>bad</td>\n",
       "      <td>1</td>\n",
       "    </tr>\n",
       "    <tr>\n",
       "      <th>1</th>\n",
       "      <td>Toast too dark: Even on the lowest setting, th...</td>\n",
       "      <td>bad</td>\n",
       "      <td>1</td>\n",
       "    </tr>\n",
       "    <tr>\n",
       "      <th>2</th>\n",
       "      <td>Excellent imagery...dumbed down story: I enjoy...</td>\n",
       "      <td>good</td>\n",
       "      <td>0</td>\n",
       "    </tr>\n",
       "    <tr>\n",
       "      <th>3</th>\n",
       "      <td>Are we pretending everyone is married?: The au...</td>\n",
       "      <td>bad</td>\n",
       "      <td>1</td>\n",
       "    </tr>\n",
       "    <tr>\n",
       "      <th>4</th>\n",
       "      <td>Not worth your time: Might as well just use a ...</td>\n",
       "      <td>bad</td>\n",
       "      <td>1</td>\n",
       "    </tr>\n",
       "    <tr>\n",
       "      <th>...</th>\n",
       "      <td>...</td>\n",
       "      <td>...</td>\n",
       "      <td>...</td>\n",
       "    </tr>\n",
       "    <tr>\n",
       "      <th>559495</th>\n",
       "      <td>PS: Correction (sorry, wasn't able to edit my ...</td>\n",
       "      <td>good</td>\n",
       "      <td>0</td>\n",
       "    </tr>\n",
       "    <tr>\n",
       "      <th>559496</th>\n",
       "      <td>awesome cloth blocks: These blocks are perfect...</td>\n",
       "      <td>good</td>\n",
       "      <td>0</td>\n",
       "    </tr>\n",
       "    <tr>\n",
       "      <th>559497</th>\n",
       "      <td>EXCELLENT PRINCE: This recording is pure Princ...</td>\n",
       "      <td>good</td>\n",
       "      <td>0</td>\n",
       "    </tr>\n",
       "    <tr>\n",
       "      <th>559498</th>\n",
       "      <td>LOVE IT, LOVE IT, LOVE IT!: Here's the scene: ...</td>\n",
       "      <td>good</td>\n",
       "      <td>0</td>\n",
       "    </tr>\n",
       "    <tr>\n",
       "      <th>559499</th>\n",
       "      <td>Flat Live Recordings: I had high expectations ...</td>\n",
       "      <td>bad</td>\n",
       "      <td>1</td>\n",
       "    </tr>\n",
       "  </tbody>\n",
       "</table>\n",
       "<p>559500 rows × 3 columns</p>\n",
       "</div>"
      ],
      "text/plain": [
       "                                                   review sentiment  \\\n",
       "0       Expensive Junk: This product consists of a pie...       bad   \n",
       "1       Toast too dark: Even on the lowest setting, th...       bad   \n",
       "2       Excellent imagery...dumbed down story: I enjoy...      good   \n",
       "3       Are we pretending everyone is married?: The au...       bad   \n",
       "4       Not worth your time: Might as well just use a ...       bad   \n",
       "...                                                   ...       ...   \n",
       "559495  PS: Correction (sorry, wasn't able to edit my ...      good   \n",
       "559496  awesome cloth blocks: These blocks are perfect...      good   \n",
       "559497  EXCELLENT PRINCE: This recording is pure Princ...      good   \n",
       "559498  LOVE IT, LOVE IT, LOVE IT!: Here's the scene: ...      good   \n",
       "559499  Flat Live Recordings: I had high expectations ...       bad   \n",
       "\n",
       "        sentiment2  \n",
       "0                1  \n",
       "1                1  \n",
       "2                0  \n",
       "3                1  \n",
       "4                1  \n",
       "...            ...  \n",
       "559495           0  \n",
       "559496           0  \n",
       "559497           0  \n",
       "559498           0  \n",
       "559499           1  \n",
       "\n",
       "[559500 rows x 3 columns]"
      ]
     },
     "execution_count": 21,
     "metadata": {},
     "output_type": "execute_result"
    }
   ],
   "source": [
    "df"
   ]
  },
  {
   "cell_type": "markdown",
   "metadata": {},
   "source": [
    "**Preparação dos Dados**\n",
    "\n",
    "A preparação dos dados é uma etapa crucial antes do treinamento de modelos de machine learning. Nesta seção, as variáveis são definidas para alimentar o modelo de análise de sentimentos.\n",
    "\n",
    "\n",
    "A variável X representa as características (no caso, as reviews), enquanto y é a variável resposta que indica se o sentimento é positivo ou negativo. "
   ]
  },
  {
   "cell_type": "code",
   "execution_count": 22,
   "metadata": {},
   "outputs": [
    {
     "data": {
      "text/plain": [
       "((391650,), (167850,), (391650,), (167850,))"
      ]
     },
     "execution_count": 22,
     "metadata": {},
     "output_type": "execute_result"
    }
   ],
   "source": [
    "X = df['review'] # features\n",
    "y = df['sentiment2'] # variável resposta\n",
    "X_train, X_test, y_train, y_test = train_test_split(X, y, test_size=0.30, random_state=42) #dividindo em conjuntos de treino e teste\n",
    "X_train.shape, X_test.shape, y_train.shape, y_test.shape"
   ]
  },
  {
   "cell_type": "markdown",
   "metadata": {},
   "source": [
    "Nesta etapa, optamos por utilizar um modelo de Regressão Logística para classificação, uma escolha comum para problemas binários como o de determinar se um review é positivo ou negativo.\n",
    "\n",
    " A Regressão Logística utiliza a função logística para modelar a relação entre as variáveis independentes e a probabilidade de uma instância pertencer a uma classe específica. A função logística transforma valores em uma escala de 0 a 1, representando probabilidades."
   ]
  },
  {
   "cell_type": "code",
   "execution_count": 23,
   "metadata": {},
   "outputs": [],
   "source": [
    "# Instanciando o modelo de regressão logistica para classificação\n",
    "lr_clf = LogisticRegression(max_iter=3000)"
   ]
  },
  {
   "cell_type": "markdown",
   "metadata": {},
   "source": [
    "**Treinamento do modelo**\n",
    "\n",
    "O uso do pipeline facilita a aplicação consistente dessas transformações e o treinamento do modelo. Esse processo é essencial para que o modelo possa aprender a relação entre as características das reviews e seus sentimentos associados.\n",
    "\n",
    "Ao treinar o modelo, os dados passam por cada uma dessas etapas, resultando em um fluxo de processamento eficiente e organizado.\n"
   ]
  },
  {
   "cell_type": "code",
   "execution_count": 24,
   "metadata": {},
   "outputs": [],
   "source": [
    "# Construindo o pipeline com etapas de processamento de texto e classificação\n",
    "model = Pipeline([\n",
    "    ('bow', CountVectorizer(analyzer=text_process)),  # Converte strings em contagens de tokens\n",
    "    ('tfidf', TfidfTransformer()),  # Converte contagens de tokens em pontuações TF-IDF ponderadas\n",
    "    ('classifier', lr_clf),  # Regressão Logística\n",
    "])"
   ]
  },
  {
   "cell_type": "code",
   "execution_count": 25,
   "metadata": {},
   "outputs": [
    {
     "data": {
      "text/plain": [
       "Pipeline(steps=[('bow',\n",
       "                 CountVectorizer(analyzer=<function text_process at 0x000001A45DF709D0>)),\n",
       "                ('tfidf', TfidfTransformer()),\n",
       "                ('classifier', LogisticRegression(max_iter=3000))])"
      ]
     },
     "execution_count": 25,
     "metadata": {},
     "output_type": "execute_result"
    }
   ],
   "source": [
    "model.fit(X_train, y_train)"
   ]
  },
  {
   "cell_type": "code",
   "execution_count": 26,
   "metadata": {},
   "outputs": [],
   "source": [
    "y_pred =  model.predict(X_test)"
   ]
  },
  {
   "cell_type": "code",
   "execution_count": 27,
   "metadata": {},
   "outputs": [
    {
     "name": "stdout",
     "output_type": "stream",
     "text": [
      "              precision    recall  f1-score   support\n",
      "\n",
      "           0       0.89      0.90      0.89     83881\n",
      "           1       0.90      0.89      0.89     83969\n",
      "\n",
      "    accuracy                           0.89    167850\n",
      "   macro avg       0.89      0.89      0.89    167850\n",
      "weighted avg       0.89      0.89      0.89    167850\n",
      "\n"
     ]
    }
   ],
   "source": [
    "print(classification_report(y_test, y_pred))"
   ]
  }
 ],
 "metadata": {
  "kernelspec": {
   "display_name": "Python 3",
   "language": "python",
   "name": "python3"
  },
  "language_info": {
   "codemirror_mode": {
    "name": "ipython",
    "version": 3
   },
   "file_extension": ".py",
   "mimetype": "text/x-python",
   "name": "python",
   "nbconvert_exporter": "python",
   "pygments_lexer": "ipython3",
   "version": "3.9.2"
  }
 },
 "nbformat": 4,
 "nbformat_minor": 2
}
